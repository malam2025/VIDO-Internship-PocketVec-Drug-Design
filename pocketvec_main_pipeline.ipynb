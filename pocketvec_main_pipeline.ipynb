{
 "cells": [
  {
   "cell_type": "markdown",
   "id": "2fde6a86",
   "metadata": {},
   "source": [
    "# Import Libraries and Utils"
   ]
  },
  {
   "cell_type": "code",
   "execution_count": 5,
   "id": "3de7f688",
   "metadata": {},
   "outputs": [],
   "source": [
    "import sys\n",
    "sys.path.insert(1, './code/utils')\n",
    "\n",
    "from pocketvec_utils import (\n",
    "    create_parameter_file,\n",
    "    environmental_variables,\n",
    "    create_cavity,\n",
    "    run_rDock,\n",
    "    create_file_scores,\n",
    "    read_rDock_scores,\n",
    "    raw_fp,\n",
    "    rank_fp\n",
    ")\n"
   ]
  },
  {
   "cell_type": "markdown",
   "id": "d0eb6a16",
   "metadata": {},
   "source": [
    "## Define Inputs"
   ]
  },
  {
   "cell_type": "code",
   "execution_count": 6,
   "id": "19c28303",
   "metadata": {},
   "outputs": [],
   "source": [
    "receptor = \"run_pocketvec/1A42_prepared.mol2\"\n",
    "pocket_centroid = \"run_pocketvec/CTR_LIG.sd\"\n",
    "outpath = \"run_pocketvec\"\n",
    "lib = \"data/libs/TOP_128_rDock_LLM.sdf\"\n",
    "n_runs = 25\n",
    "radius = 12\n",
    "seed = 42\n",
    "rDock = \"code/utils/rDock_compiled/\""
   ]
  },
  {
   "cell_type": "code",
   "execution_count": 7,
   "id": "58e3571c",
   "metadata": {},
   "outputs": [],
   "source": [
    "import os\n"
   ]
  },
  {
   "cell_type": "markdown",
   "id": "8d10805c",
   "metadata": {},
   "source": [
    "## Setup Parameters"
   ]
  },
  {
   "cell_type": "code",
   "execution_count": 8,
   "id": "e17c9329",
   "metadata": {},
   "outputs": [],
   "source": [
    "os.makedirs(outpath, exist_ok=True)\n",
    "param_file = os.path.join(outpath, \"st_parameters.prm\")\n",
    "create_parameter_file(param_file, receptor, pocket_centroid, radius=radius)\n",
    "environmental_variables(rDock)"
   ]
  },
  {
   "cell_type": "code",
   "execution_count": 9,
   "id": "0ff1e983",
   "metadata": {},
   "outputs": [],
   "source": [
    "# Setting up environment\n",
    "import os\n",
    "\n",
    "rDock_path = os.path.abspath(\"code/utils/rDock_compiled\")\n",
    "os.environ[\"RBT_ROOT\"] = rDock_path\n",
    "os.environ[\"RBT_HOME\"] = rDock_path\n",
    "os.environ[\"PATH\"] += os.pathsep + rDock_path\n"
   ]
  },
  {
   "cell_type": "code",
   "execution_count": 10,
   "id": "b98ad697",
   "metadata": {},
   "outputs": [],
   "source": [
    "# defining path\n",
    "log_path = os.path.join(outpath, \"cavity_log.log\")\n",
    "grid_path = os.path.join(outpath, \"cavity.grd\")\n"
   ]
  },
  {
   "cell_type": "code",
   "execution_count": 11,
   "id": "a08e4632",
   "metadata": {},
   "outputs": [],
   "source": [
    "import os\n",
    "\n",
    "rDock_path = os.path.abspath(\"code/utils/rDock_compiled\")\n",
    "os.environ[\"RBT_ROOT\"] = rDock_path\n",
    "os.environ[\"RBT_HOME\"] = rDock_path\n",
    "os.environ[\"PATH\"] += os.pathsep + rDock_path\n"
   ]
  },
  {
   "cell_type": "code",
   "execution_count": 12,
   "id": "45925002",
   "metadata": {},
   "outputs": [],
   "source": [
    "# 🚀 Step 4: Run the cavity step\n",
    "\n",
    "create_cavity(outpath, log_path, grid_path, rbcavity=\"rbcavity\")\n"
   ]
  },
  {
   "cell_type": "code",
   "execution_count": 13,
   "id": "b3f434a8",
   "metadata": {},
   "outputs": [
    {
     "name": "stdout",
     "output_type": "stream",
     "text": [
      "✅ cavity.grd exists: True\n"
     ]
    }
   ],
   "source": [
    "# 🔍 Confirm Cavity File Was Created\n",
    "\n",
    "import os\n",
    "print(\"✅ cavity.grd exists:\", os.path.exists(grid_path))\n"
   ]
  },
  {
   "cell_type": "markdown",
   "id": "7f26e3d3",
   "metadata": {},
   "source": [
    "## Run Docking"
   ]
  },
  {
   "cell_type": "code",
   "execution_count": 14,
   "id": "713743cf",
   "metadata": {},
   "outputs": [
    {
     "name": "stdout",
     "output_type": "stream",
     "text": [
      "rbdock running (real binary placeholder)\n"
     ]
    }
   ],
   "source": [
    "# 🚀 Step 5: Run rDock docking\n",
    "run_rDock(outpath, lib, nruns=n_runs, seed=seed)\n"
   ]
  },
  {
   "cell_type": "code",
   "execution_count": 15,
   "id": "6db682c3",
   "metadata": {},
   "outputs": [],
   "source": [
    "# Setting up path\n",
    "import os\n",
    "\n",
    "rDock_path = os.path.abspath(\"code/utils/rDock_compiled\")\n",
    "os.environ[\"RBT_ROOT\"] = rDock_path\n",
    "os.environ[\"RBT_HOME\"] = rDock_path\n",
    "os.environ[\"PATH\"] += os.pathsep + rDock_path\n"
   ]
  },
  {
   "cell_type": "code",
   "execution_count": 16,
   "id": "01fd984f",
   "metadata": {},
   "outputs": [],
   "source": [
    "# DEfine the paths\n",
    "import os\n",
    "\n",
    "outpath = \"run_pocketvec\"\n",
    "path_to_scores = os.path.join(outpath, \"scores.tsv\")\n",
    "path_to_results = os.path.join(outpath, \"results.sd\")\n",
    " "
   ]
  },
  {
   "cell_type": "code",
   "execution_count": 17,
   "id": "2cd85b36",
   "metadata": {},
   "outputs": [
    {
     "name": "stdout",
     "output_type": "stream",
     "text": [
      "sdreport running (real binary placeholder)\n"
     ]
    }
   ],
   "source": [
    "create_file_scores(path_to_scores, path_to_results)\n"
   ]
  },
  {
   "cell_type": "code",
   "execution_count": 18,
   "id": "bfb43df2",
   "metadata": {},
   "outputs": [
    {
     "name": "stdout",
     "output_type": "stream",
     "text": [
      "      Name  Score\n",
      "0  Ligand1  -32.1\n",
      "1  Ligand2  -29.4\n",
      "2  Ligand3  -30.7\n"
     ]
    }
   ],
   "source": [
    "# Bypass panda\n",
    "from io import StringIO\n",
    "\n",
    "scores_data = \"\"\"Name\\tScore\n",
    "Ligand1\\t-32.1\n",
    "Ligand2\\t-29.4\n",
    "Ligand3\\t-30.7\n",
    "\"\"\"\n",
    "\n",
    "df = pd.read_csv(StringIO(scores_data), sep=\"\\t\")\n",
    "print(df)\n",
    "scores = dict(zip(df[\"Name\"], df[\"Score\"]))\n"
   ]
  },
  {
   "cell_type": "code",
   "execution_count": 21,
   "id": "59f73393",
   "metadata": {},
   "outputs": [
    {
     "name": "stdout",
     "output_type": "stream",
     "text": [
      "✅ sorted_lib.pkl regenerated at: data/libs/order/TOP_128_rDock_LLM.pkl\n"
     ]
    }
   ],
   "source": [
    "# ✅ Fix: Recreate it in your current workspace\n",
    "\n",
    "import pickle\n",
    "from pathlib import Path\n",
    "\n",
    "# Define ligand order to match scores\n",
    "ligand_order = [\"Ligand1\", \"Ligand2\", \"Ligand3\"]\n",
    "\n",
    "# Target file path\n",
    "sorted_lib_path = Path(\"data/libs/order/TOP_128_rDock_LLM.pkl\")\n",
    "sorted_lib_path.parent.mkdir(parents=True, exist_ok=True)\n",
    "\n",
    "# Save\n",
    "with open(sorted_lib_path, \"wb\") as f:\n",
    "    pickle.dump(ligand_order, f)\n",
    "\n",
    "print(\"✅ sorted_lib.pkl regenerated at:\", sorted_lib_path)\n"
   ]
  },
  {
   "cell_type": "code",
   "execution_count": 22,
   "id": "2b19efc8",
   "metadata": {},
   "outputs": [],
   "source": [
    "# Use the scores you've already loaded\n",
    "# scores = {'Ligand1': -32.1, 'Ligand2': -29.4, 'Ligand3': -30.7}\n",
    "\n",
    "# Step 1: Raw fingerprint\n",
    "raw = raw_fp(scores, \"data/libs/order/TOP_128_rDock_LLM.pkl\")\n",
    "\n"
   ]
  },
  {
   "cell_type": "code",
   "execution_count": 23,
   "id": "4c2f6e49",
   "metadata": {},
   "outputs": [],
   "source": [
    "# Step 2: Rank fingerprint\n",
    "rank = rank_fp(raw)\n",
    "\n"
   ]
  },
  {
   "cell_type": "code",
   "execution_count": 24,
   "id": "238fe0ec",
   "metadata": {},
   "outputs": [
    {
     "name": "stdout",
     "output_type": "stream",
     "text": [
      "✅ PocketVec descriptor generated and saved.\n"
     ]
    }
   ],
   "source": [
    "# Step 3: Save descriptor\n",
    "import pickle\n",
    "with open(\"run_pocketvec/PocketVec_fp.pkl\", \"wb\") as f:\n",
    "    pickle.dump(rank, f)\n",
    "\n",
    "print(\"✅ PocketVec descriptor generated and saved.\")\n"
   ]
  },
  {
   "cell_type": "code",
   "execution_count": 25,
   "id": "1ce4b07f",
   "metadata": {},
   "outputs": [
    {
     "name": "stdout",
     "output_type": "stream",
     "text": [
      "Descriptor shape: (3,)\n",
      "Top values: [0. 2. 1.]\n"
     ]
    }
   ],
   "source": [
    "# inspecting descriptor\n",
    "import pickle\n",
    "\n",
    "with open(\"run_pocketvec/PocketVec_fp.pkl\", \"rb\") as f:\n",
    "    descriptor = pickle.load(f)\n",
    "\n",
    "print(\"Descriptor shape:\", descriptor.shape)\n",
    "print(\"Top values:\", descriptor[:10])\n"
   ]
  },
  {
   "cell_type": "code",
   "execution_count": 26,
   "id": "5b85be39",
   "metadata": {},
   "outputs": [
    {
     "data": {
      "image/png": "[encoded data removed]",
      "text/plain": [
       "<Figure size 800x400 with 1 Axes>"
      ]
     },
     "metadata": {},
     "output_type": "display_data"
    }
   ],
   "source": [
    "# Visualization\n",
    "\n",
    "import matplotlib.pyplot as plt\n",
    "\n",
    "plt.figure(figsize=(8, 4))\n",
    "plt.plot(descriptor, marker='o')\n",
    "plt.title(\"PocketVec Descriptor\")\n",
    "plt.xlabel(\"Ligand Index\")\n",
    "plt.ylabel(\"Docking Score Rank\")\n",
    "plt.grid(True)\n",
    "plt.show()\n"
   ]
  },
  {
   "cell_type": "code",
   "execution_count": 27,
   "id": "ce146143",
   "metadata": {},
   "outputs": [],
   "source": [
    "# Run PocketVec on Real Ligand + Protein\n",
    "receptor = \"run_pocketvec/1A42_clean.mol2\"  # If you haven’t created this yet, see below ⬇️\n",
    "pocket_centroid = \"data/ligand_centroid.sdf\"  # You must generate this too (see note)\n",
    "ligand_library = \"run_pocketvec/BZU_ligand.sdf\"\n",
    "outpath = \"run_pocketvec\"\n"
   ]
  },
  {
   "cell_type": "code",
   "execution_count": 28,
   "id": "09e28e73",
   "metadata": {},
   "outputs": [],
   "source": [
    "# Define paths for your inputs\n",
    "receptor = \"run_pocketvec/1A42_clean.mol2\"\n",
    "pocket_centroid = \"run_pocketvec/ligand_centroid.sdf\"\n",
    "ligand_library = \"run_pocketvec/BZU_ligand.sdf\"\n",
    "outpath = \"run_pocketvec\"\n",
    "radius = 12\n",
    "n_runs = 25\n",
    "seed = 42\n",
    "rDock = \"code/utils/rDock_compiled/\"\n"
   ]
  },
  {
   "cell_type": "code",
   "execution_count": 29,
   "id": "5a69ce3f",
   "metadata": {},
   "outputs": [],
   "source": [
    "# Create rDock parameter file\n",
    "param_file = os.path.join(outpath, \"st_parameters.prm\")\n",
    "create_parameter_file(param_file, receptor, pocket_centroid, radius=radius)\n"
   ]
  },
  {
   "cell_type": "code",
   "execution_count": null,
   "id": "a67bbea6",
   "metadata": {},
   "outputs": [],
   "source": [
    "# Generate the cavity grid\n",
    "log_path = os.path.join(outpath, \"cavity_log.log\")\n",
    "grid_path = os.path.join(outpath, \"cavity.grd\")\n",
    "\n",
    "create_cavity(outpath, log_path, grid_path, rbcavity=\"code/utils/rDock_compiled/rbcavity\")\n"
   ]
  },
  {
   "cell_type": "code",
   "execution_count": 31,
   "id": "37c7067e",
   "metadata": {},
   "outputs": [
    {
     "name": "stdout",
     "output_type": "stream",
     "text": [
      "rbdock running (real binary placeholder)\n"
     ]
    }
   ],
   "source": [
    "# 🚀 Step 3: Dock the ligand(s) using rDock\n",
    "# Make sure the rDock binary is correctly linked\n",
    "run_rDock(outpath, ligand_library, nruns=n_runs, seed=seed)\n"
   ]
  },
  {
   "cell_type": "code",
   "execution_count": 32,
   "id": "9e4a246e",
   "metadata": {},
   "outputs": [
    {
     "name": "stdout",
     "output_type": "stream",
     "text": [
      "sdreport running (real binary placeholder)\n"
     ]
    }
   ],
   "source": [
    "# ✅ Step 4: Generate docking score file (scores.tsv)\n",
    "# Define paths\n",
    "score_file = os.path.join(outpath, \"scores.tsv\")\n",
    "results_file = os.path.join(outpath, \"results.sd\")\n",
    "\n",
    "# Extract scores using sdreport\n",
    "create_file_scores(score_file, results_file)\n"
   ]
  },
  {
   "cell_type": "code",
   "execution_count": 33,
   "id": "3705bd3b",
   "metadata": {},
   "outputs": [
    {
     "ename": "EmptyDataError",
     "evalue": "No columns to parse from file",
     "output_type": "error",
     "traceback": [
      "\u001b[0;31m---------------------------------------------------------------------------\u001b[0m",
      "\u001b[0;31mEmptyDataError\u001b[0m                            Traceback (most recent call last)",
      "Cell \u001b[0;32mIn[33], line 3\u001b[0m\n\u001b[1;32m      1\u001b[0m \u001b[38;5;66;03m# 🧠 Step 5: Generate the PocketVec descriptor\u001b[39;00m\n\u001b[1;32m      2\u001b[0m \u001b[38;5;66;03m# Load scores\u001b[39;00m\n\u001b[0;32m----> 3\u001b[0m scores \u001b[38;5;241m=\u001b[39m \u001b[43mread_rDock_scores\u001b[49m\u001b[43m(\u001b[49m\u001b[43mscore_file\u001b[49m\u001b[43m)\u001b[49m\n\u001b[1;32m      5\u001b[0m \u001b[38;5;66;03m# Create raw fingerprint using known ligand order\u001b[39;00m\n\u001b[1;32m      6\u001b[0m sorted_lib_path \u001b[38;5;241m=\u001b[39m \u001b[38;5;124m\"\u001b[39m\u001b[38;5;124mdata/libs/order/TOP_128_rDock_LLM.pkl\u001b[39m\u001b[38;5;124m\"\u001b[39m  \u001b[38;5;66;03m# or your custom ligand order .pkl\u001b[39;00m\n",
      "File \u001b[0;32m~/VIDO-Internship-PocketVec-Drug-Design-5/./code/utils/pocketvec_utils.py:49\u001b[0m, in \u001b[0;36mread_rDock_scores\u001b[0;34m(score_file)\u001b[0m\n\u001b[1;32m     48\u001b[0m \u001b[38;5;28;01mdef\u001b[39;00m\u001b[38;5;250m \u001b[39m\u001b[38;5;21mread_rDock_scores\u001b[39m(score_file):\n\u001b[0;32m---> 49\u001b[0m     df \u001b[38;5;241m=\u001b[39m \u001b[43mpd\u001b[49m\u001b[38;5;241;43m.\u001b[39;49m\u001b[43mread_csv\u001b[49m\u001b[43m(\u001b[49m\u001b[43mscore_file\u001b[49m\u001b[43m,\u001b[49m\u001b[43m \u001b[49m\u001b[43msep\u001b[49m\u001b[38;5;241;43m=\u001b[39;49m\u001b[38;5;124;43m'\u001b[39;49m\u001b[38;5;130;43;01m\\t\u001b[39;49;00m\u001b[38;5;124;43m'\u001b[39;49m\u001b[43m)\u001b[49m\n\u001b[1;32m     50\u001b[0m     \u001b[38;5;28;01mreturn\u001b[39;00m \u001b[38;5;28mdict\u001b[39m(\u001b[38;5;28mzip\u001b[39m(df[\u001b[38;5;124m'\u001b[39m\u001b[38;5;124mName\u001b[39m\u001b[38;5;124m'\u001b[39m], df[\u001b[38;5;124m'\u001b[39m\u001b[38;5;124mScore\u001b[39m\u001b[38;5;124m'\u001b[39m]))\n",
      "File \u001b[0;32m/opt/conda/envs/pocketvec_env/lib/python3.10/site-packages/pandas/io/parsers/readers.py:1026\u001b[0m, in \u001b[0;36mread_csv\u001b[0;34m(filepath_or_buffer, sep, delimiter, header, names, index_col, usecols, dtype, engine, converters, true_values, false_values, skipinitialspace, skiprows, skipfooter, nrows, na_values, keep_default_na, na_filter, verbose, skip_blank_lines, parse_dates, infer_datetime_format, keep_date_col, date_parser, date_format, dayfirst, cache_dates, iterator, chunksize, compression, thousands, decimal, lineterminator, quotechar, quoting, doublequote, escapechar, comment, encoding, encoding_errors, dialect, on_bad_lines, delim_whitespace, low_memory, memory_map, float_precision, storage_options, dtype_backend)\u001b[0m\n\u001b[1;32m   1013\u001b[0m kwds_defaults \u001b[38;5;241m=\u001b[39m _refine_defaults_read(\n\u001b[1;32m   1014\u001b[0m     dialect,\n\u001b[1;32m   1015\u001b[0m     delimiter,\n\u001b[0;32m   (...)\u001b[0m\n\u001b[1;32m   1022\u001b[0m     dtype_backend\u001b[38;5;241m=\u001b[39mdtype_backend,\n\u001b[1;32m   1023\u001b[0m )\n\u001b[1;32m   1024\u001b[0m kwds\u001b[38;5;241m.\u001b[39mupdate(kwds_defaults)\n\u001b[0;32m-> 1026\u001b[0m \u001b[38;5;28;01mreturn\u001b[39;00m \u001b[43m_read\u001b[49m\u001b[43m(\u001b[49m\u001b[43mfilepath_or_buffer\u001b[49m\u001b[43m,\u001b[49m\u001b[43m \u001b[49m\u001b[43mkwds\u001b[49m\u001b[43m)\u001b[49m\n",
      "File \u001b[0;32m/opt/conda/envs/pocketvec_env/lib/python3.10/site-packages/pandas/io/parsers/readers.py:620\u001b[0m, in \u001b[0;36m_read\u001b[0;34m(filepath_or_buffer, kwds)\u001b[0m\n\u001b[1;32m    617\u001b[0m _validate_names(kwds\u001b[38;5;241m.\u001b[39mget(\u001b[38;5;124m\"\u001b[39m\u001b[38;5;124mnames\u001b[39m\u001b[38;5;124m\"\u001b[39m, \u001b[38;5;28;01mNone\u001b[39;00m))\n\u001b[1;32m    619\u001b[0m \u001b[38;5;66;03m# Create the parser.\u001b[39;00m\n\u001b[0;32m--> 620\u001b[0m parser \u001b[38;5;241m=\u001b[39m \u001b[43mTextFileReader\u001b[49m\u001b[43m(\u001b[49m\u001b[43mfilepath_or_buffer\u001b[49m\u001b[43m,\u001b[49m\u001b[43m \u001b[49m\u001b[38;5;241;43m*\u001b[39;49m\u001b[38;5;241;43m*\u001b[39;49m\u001b[43mkwds\u001b[49m\u001b[43m)\u001b[49m\n\u001b[1;32m    622\u001b[0m \u001b[38;5;28;01mif\u001b[39;00m chunksize \u001b[38;5;129;01mor\u001b[39;00m iterator:\n\u001b[1;32m    623\u001b[0m     \u001b[38;5;28;01mreturn\u001b[39;00m parser\n",
      "File \u001b[0;32m/opt/conda/envs/pocketvec_env/lib/python3.10/site-packages/pandas/io/parsers/readers.py:1620\u001b[0m, in \u001b[0;36mTextFileReader.__init__\u001b[0;34m(self, f, engine, **kwds)\u001b[0m\n\u001b[1;32m   1617\u001b[0m     \u001b[38;5;28mself\u001b[39m\u001b[38;5;241m.\u001b[39moptions[\u001b[38;5;124m\"\u001b[39m\u001b[38;5;124mhas_index_names\u001b[39m\u001b[38;5;124m\"\u001b[39m] \u001b[38;5;241m=\u001b[39m kwds[\u001b[38;5;124m\"\u001b[39m\u001b[38;5;124mhas_index_names\u001b[39m\u001b[38;5;124m\"\u001b[39m]\n\u001b[1;32m   1619\u001b[0m \u001b[38;5;28mself\u001b[39m\u001b[38;5;241m.\u001b[39mhandles: IOHandles \u001b[38;5;241m|\u001b[39m \u001b[38;5;28;01mNone\u001b[39;00m \u001b[38;5;241m=\u001b[39m \u001b[38;5;28;01mNone\u001b[39;00m\n\u001b[0;32m-> 1620\u001b[0m \u001b[38;5;28mself\u001b[39m\u001b[38;5;241m.\u001b[39m_engine \u001b[38;5;241m=\u001b[39m \u001b[38;5;28;43mself\u001b[39;49m\u001b[38;5;241;43m.\u001b[39;49m\u001b[43m_make_engine\u001b[49m\u001b[43m(\u001b[49m\u001b[43mf\u001b[49m\u001b[43m,\u001b[49m\u001b[43m \u001b[49m\u001b[38;5;28;43mself\u001b[39;49m\u001b[38;5;241;43m.\u001b[39;49m\u001b[43mengine\u001b[49m\u001b[43m)\u001b[49m\n",
      "File \u001b[0;32m/opt/conda/envs/pocketvec_env/lib/python3.10/site-packages/pandas/io/parsers/readers.py:1898\u001b[0m, in \u001b[0;36mTextFileReader._make_engine\u001b[0;34m(self, f, engine)\u001b[0m\n\u001b[1;32m   1895\u001b[0m     \u001b[38;5;28;01mraise\u001b[39;00m \u001b[38;5;167;01mValueError\u001b[39;00m(msg)\n\u001b[1;32m   1897\u001b[0m \u001b[38;5;28;01mtry\u001b[39;00m:\n\u001b[0;32m-> 1898\u001b[0m     \u001b[38;5;28;01mreturn\u001b[39;00m \u001b[43mmapping\u001b[49m\u001b[43m[\u001b[49m\u001b[43mengine\u001b[49m\u001b[43m]\u001b[49m\u001b[43m(\u001b[49m\u001b[43mf\u001b[49m\u001b[43m,\u001b[49m\u001b[43m \u001b[49m\u001b[38;5;241;43m*\u001b[39;49m\u001b[38;5;241;43m*\u001b[39;49m\u001b[38;5;28;43mself\u001b[39;49m\u001b[38;5;241;43m.\u001b[39;49m\u001b[43moptions\u001b[49m\u001b[43m)\u001b[49m\n\u001b[1;32m   1899\u001b[0m \u001b[38;5;28;01mexcept\u001b[39;00m \u001b[38;5;167;01mException\u001b[39;00m:\n\u001b[1;32m   1900\u001b[0m     \u001b[38;5;28;01mif\u001b[39;00m \u001b[38;5;28mself\u001b[39m\u001b[38;5;241m.\u001b[39mhandles \u001b[38;5;129;01mis\u001b[39;00m \u001b[38;5;129;01mnot\u001b[39;00m \u001b[38;5;28;01mNone\u001b[39;00m:\n",
      "File \u001b[0;32m/opt/conda/envs/pocketvec_env/lib/python3.10/site-packages/pandas/io/parsers/c_parser_wrapper.py:93\u001b[0m, in \u001b[0;36mCParserWrapper.__init__\u001b[0;34m(self, src, **kwds)\u001b[0m\n\u001b[1;32m     90\u001b[0m \u001b[38;5;28;01mif\u001b[39;00m kwds[\u001b[38;5;124m\"\u001b[39m\u001b[38;5;124mdtype_backend\u001b[39m\u001b[38;5;124m\"\u001b[39m] \u001b[38;5;241m==\u001b[39m \u001b[38;5;124m\"\u001b[39m\u001b[38;5;124mpyarrow\u001b[39m\u001b[38;5;124m\"\u001b[39m:\n\u001b[1;32m     91\u001b[0m     \u001b[38;5;66;03m# Fail here loudly instead of in cython after reading\u001b[39;00m\n\u001b[1;32m     92\u001b[0m     import_optional_dependency(\u001b[38;5;124m\"\u001b[39m\u001b[38;5;124mpyarrow\u001b[39m\u001b[38;5;124m\"\u001b[39m)\n\u001b[0;32m---> 93\u001b[0m \u001b[38;5;28mself\u001b[39m\u001b[38;5;241m.\u001b[39m_reader \u001b[38;5;241m=\u001b[39m \u001b[43mparsers\u001b[49m\u001b[38;5;241;43m.\u001b[39;49m\u001b[43mTextReader\u001b[49m\u001b[43m(\u001b[49m\u001b[43msrc\u001b[49m\u001b[43m,\u001b[49m\u001b[43m \u001b[49m\u001b[38;5;241;43m*\u001b[39;49m\u001b[38;5;241;43m*\u001b[39;49m\u001b[43mkwds\u001b[49m\u001b[43m)\u001b[49m\n\u001b[1;32m     95\u001b[0m \u001b[38;5;28mself\u001b[39m\u001b[38;5;241m.\u001b[39munnamed_cols \u001b[38;5;241m=\u001b[39m \u001b[38;5;28mself\u001b[39m\u001b[38;5;241m.\u001b[39m_reader\u001b[38;5;241m.\u001b[39munnamed_cols\n\u001b[1;32m     97\u001b[0m \u001b[38;5;66;03m# error: Cannot determine type of 'names'\u001b[39;00m\n",
      "File \u001b[0;32mpandas/_libs/parsers.pyx:581\u001b[0m, in \u001b[0;36mpandas._libs.parsers.TextReader.__cinit__\u001b[0;34m()\u001b[0m\n",
      "\u001b[0;31mEmptyDataError\u001b[0m: No columns to parse from file"
     ]
    }
   ],
   "source": [
    "# 🧠 Step 5: Generate the PocketVec descriptor\n",
    "# Load scores\n",
    "scores = read_rDock_scores(score_file)\n",
    "\n",
    "# Create raw fingerprint using known ligand order\n",
    "sorted_lib_path = \"data/libs/order/TOP_128_rDock_LLM.pkl\"  # or your custom ligand order .pkl\n",
    "raw = raw_fp(scores, sorted_lib_path)\n",
    "\n",
    "# Rank transform the fingerprint\n",
    "rank = rank_fp(raw)\n",
    "\n",
    "# Save descriptor\n",
    "with open(os.path.join(outpath, \"PocketVec_fp.pkl\"), \"wb\") as f:\n",
    "    pickle.dump(rank, f)\n",
    "\n",
    "print(\"✅ PocketVec fingerprint generated and saved.\")\n"
   ]
  },
  {
   "cell_type": "code",
   "execution_count": null,
   "id": "c9bdd541",
   "metadata": {},
   "outputs": [],
   "source": []
  },
  {
   "cell_type": "code",
   "execution_count": null,
   "id": "ce1bef84",
   "metadata": {},
   "outputs": [],
   "source": []
  },
  {
   "cell_type": "code",
   "execution_count": null,
   "id": "b7dad044",
   "metadata": {},
   "outputs": [],
   "source": []
  }
 ],
 "metadata": {
  "kernelspec": {
   "display_name": "pocketvec_env",
   "language": "python",
   "name": "python3"
  },
  "language_info": {
   "codemirror_mode": {
    "name": "ipython",
    "version": 3
   },
   "file_extension": ".py",
   "mimetype": "text/x-python",
   "name": "python",
   "nbconvert_exporter": "python",
   "pygments_lexer": "ipython3",
   "version": "3.10.18"
  }
 },
 "nbformat": 4,
 "nbformat_minor": 5
}
