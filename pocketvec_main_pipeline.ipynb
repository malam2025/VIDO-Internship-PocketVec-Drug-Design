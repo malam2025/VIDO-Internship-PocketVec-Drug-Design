{
 "cells": [
  {
   "cell_type": "markdown",
   "id": "2fde6a86",
   "metadata": {},
   "source": [
    "# 📦 Step 1: Import Libraries and Utils"
   ]
  },
  {
   "cell_type": "code",
   "execution_count": null,
   "id": "3de7f688",
   "metadata": {},
   "outputs": [],
   "source": [
    "import sys\n",
    "import os\n",
    "import shutil\n",
    "import pickle\n",
    "\n",
    "sys.path.insert(1, './code/utils')\n",
    "from pocketvec_utils import (\n",
    "    create_parameter_file,\n",
    "    environmental_variables,\n",
    "    create_cavity,\n",
    "    run_rDock,\n",
    "    create_file_scores,\n",
    "    read_rDock_scores,\n",
    "    raw_fp,\n",
    "    rank_fp\n",
    ")"
   ]
  },
  {
   "cell_type": "markdown",
   "id": "d0eb6a16",
   "metadata": {},
   "source": [
    "## 🧩 Step 2: Define Inputs"
   ]
  },
  {
   "cell_type": "code",
   "execution_count": null,
   "id": "19c28303",
   "metadata": {},
   "outputs": [],
   "source": [
    "receptor = \"run_pocketvec/1A42_prepared.mol2\"\n",
    "pocket_centroid = \"run_pocketvec/CTR_LIG.sd\"\n",
    "outpath = \"run_pocketvec\"\n",
    "lib = \"data/libs/TOP_128_rDock_LLM.sdf\"\n",
    "n_runs = 25\n",
    "radius = 12\n",
    "seed = 42\n",
    "rDock = \"code/utils/rDock_compiled/\""
   ]
  },
  {
   "cell_type": "markdown",
   "id": "8d10805c",
   "metadata": {},
   "source": [
    "## 🛠️ Step 3: Setup Parameters"
   ]
  },
  {
   "cell_type": "code",
   "execution_count": null,
   "id": "e17c9329",
   "metadata": {},
   "outputs": [],
   "source": [
    "os.makedirs(outpath, exist_ok=True)\n",
    "param_file = os.path.join(outpath, \"st_parameters.prm\")\n",
    "create_parameter_file(param_file, receptor, pocket_centroid, radius=radius)\n",
    "environmental_variables(rDock)"
   ]
  },
  {
   "cell_type": "markdown",
   "id": "b12ff2ec",
   "metadata": {},
   "source": [
    "## 📍 Step 4: Generate Cavity"
   ]
  },
  {
   "cell_type": "code",
   "execution_count": null,
   "id": "b689e2d4",
   "metadata": {},
   "outputs": [],
   "source": [
    "log_path = os.path.join(outpath, \"cavity_log.log\")\n",
    "grid_path = os.path.join(outpath, \"cavity.grd\")\n",
    "create_cavity(outpath, log_path, grid_path, rbcavity=\"rbcavity\")"
   ]
  },
  {
   "cell_type": "markdown",
   "id": "9a3c0aef",
   "metadata": {},
   "source": [
    "## 📎 Step 5: Copy Docking Parameter File"
   ]
  },
  {
   "cell_type": "code",
   "execution_count": null,
   "id": "62845c72",
   "metadata": {},
   "outputs": [],
   "source": [
    "shutil.copyfile(\"code/utils/rDock_compiled/dock.prm\", os.path.join(outpath, \"dock.prm\"))"
   ]
  },
  {
   "cell_type": "markdown",
   "id": "7f26e3d3",
   "metadata": {},
   "source": [
    "## 🚀 Step 6: Run Docking"
   ]
  },
  {
   "cell_type": "code",
   "execution_count": null,
   "id": "713743cf",
   "metadata": {},
   "outputs": [],
   "source": [
    "run_rDock(outpath, lib, nruns=n_runs, seed=seed)"
   ]
  },
  {
   "cell_type": "markdown",
   "id": "43fca180",
   "metadata": {},
   "source": [
    "## 📊 Step 7: Create Scores and Fingerprint"
   ]
  },
  {
   "cell_type": "code",
   "execution_count": null,
   "id": "c332b6f8",
   "metadata": {},
   "outputs": [],
   "source": [
    "scores_file = os.path.join(outpath, \"scores.tsv\")\n",
    "results_file = os.path.join(outpath, \"results.sd\")\n",
    "create_file_scores(scores_file, results_file)\n",
    "\n",
    "sorted_lib = 'data/libs/order/' + os.path.basename(lib).replace(\".sdf\", \".pkl\")\n",
    "scores = read_rDock_scores(scores_file)\n",
    "raw = raw_fp(scores, sorted_lib)\n",
    "rank = rank_fp(raw)\n",
    "\n",
    "pickle.dump(rank, open(os.path.join(outpath, \"PocketVec_fp.pkl\"), \"wb\"))"
   ]
  },
  {
   "cell_type": "markdown",
   "id": "68c27450",
   "metadata": {},
   "source": [
    "## ✅ Done"
   ]
  },
  {
   "cell_type": "code",
   "execution_count": null,
   "id": "1ce4b07f",
   "metadata": {},
   "outputs": [],
   "source": [
    "print(\"✅ PocketVec pipeline completed successfully!\")"
   ]
  }
 ],
 "metadata": {
  "kernelspec": {
   "display_name": "Python 3",
   "name": "python3"
  },
  "language_info": {
   "name": "python",
   "version": "3.10"
  }
 },
 "nbformat": 4,
 "nbformat_minor": 5
}
