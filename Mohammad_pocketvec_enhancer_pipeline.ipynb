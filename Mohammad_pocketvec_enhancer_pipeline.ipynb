{
 "cells": [
  {
   "cell_type": "markdown",
   "metadata": {},
   "source": [
    "# 🧪 PocketVec Enhancer Pipeline\n",
    "\n",
    "This Jupyter notebook runs a novel computational docking + descriptor pipeline based on PocketVec + rDock + visual reporting."
   ]
  },
  {
   "cell_type": "code",
   "execution_count": 1,
   "id": "9c168ed6",
   "metadata": {},
   "outputs": [
    {
     "name": "stdout",
     "output_type": "stream",
     "text": [
      "✅ All libraries loaded successfully!\n"
     ]
    }
   ],
   "source": [
    "# Testing\n",
    "import openbabel\n",
    "import rdkit\n",
    "import pandas as pd\n",
    "import numpy as np\n",
    "import matplotlib.pyplot as plt\n",
    "from tqdm import tqdm\n",
    "\n",
    "print(\"✅ All libraries loaded successfully!\")\n"
   ]
  },
  {
   "cell_type": "code",
   "execution_count": 3,
   "id": "ff0ee10e",
   "metadata": {},
   "outputs": [
    {
     "name": "stdout",
     "output_type": "stream",
     "text": [
      "/home/codespace/VIDO-Internship-PocketVec-Drug-Design-1\n"
     ]
    }
   ],
   "source": [
    "# Check\n",
    "!pwd  # Will print your working directory\n"
   ]
  },
  {
   "cell_type": "code",
   "execution_count": 2,
   "id": "e8cf31b8",
   "metadata": {},
   "outputs": [
    {
     "ename": "FileNotFoundError",
     "evalue": "[Errno 2] No such file or directory: 'run_pocketvec/PocketVec_fp.pkl'",
     "output_type": "error",
     "traceback": [
      "\u001b[0;31m---------------------------------------------------------------------------\u001b[0m",
      "\u001b[0;31mFileNotFoundError\u001b[0m                         Traceback (most recent call last)",
      "Cell \u001b[0;32mIn[2], line 6\u001b[0m\n\u001b[1;32m      3\u001b[0m \u001b[38;5;28;01mimport\u001b[39;00m\u001b[38;5;250m \u001b[39m\u001b[38;5;21;01mpickle\u001b[39;00m\n\u001b[1;32m      5\u001b[0m \u001b[38;5;66;03m# Load the PocketVec descriptor (after pipeline has run and created this file)\u001b[39;00m\n\u001b[0;32m----> 6\u001b[0m \u001b[38;5;28;01mwith\u001b[39;00m \u001b[38;5;28;43mopen\u001b[39;49m\u001b[43m(\u001b[49m\u001b[38;5;124;43m\"\u001b[39;49m\u001b[38;5;124;43mrun_pocketvec/PocketVec_fp.pkl\u001b[39;49m\u001b[38;5;124;43m\"\u001b[39;49m\u001b[43m,\u001b[49m\u001b[43m \u001b[49m\u001b[38;5;124;43m\"\u001b[39;49m\u001b[38;5;124;43mrb\u001b[39;49m\u001b[38;5;124;43m\"\u001b[39;49m\u001b[43m)\u001b[49m \u001b[38;5;28;01mas\u001b[39;00m f:\n\u001b[1;32m      7\u001b[0m     fingerprint \u001b[38;5;241m=\u001b[39m pickle\u001b[38;5;241m.\u001b[39mload(f)\n\u001b[1;32m      9\u001b[0m \u001b[38;5;28mprint\u001b[39m(\u001b[38;5;124m\"\u001b[39m\u001b[38;5;124m✅ PocketVec descriptor loaded:\u001b[39m\u001b[38;5;124m\"\u001b[39m)\n",
      "File \u001b[0;32m/opt/conda/envs/pocketvec_env/lib/python3.10/site-packages/IPython/core/interactiveshell.py:324\u001b[0m, in \u001b[0;36m_modified_open\u001b[0;34m(file, *args, **kwargs)\u001b[0m\n\u001b[1;32m    317\u001b[0m \u001b[38;5;28;01mif\u001b[39;00m file \u001b[38;5;129;01min\u001b[39;00m {\u001b[38;5;241m0\u001b[39m, \u001b[38;5;241m1\u001b[39m, \u001b[38;5;241m2\u001b[39m}:\n\u001b[1;32m    318\u001b[0m     \u001b[38;5;28;01mraise\u001b[39;00m \u001b[38;5;167;01mValueError\u001b[39;00m(\n\u001b[1;32m    319\u001b[0m         \u001b[38;5;124mf\u001b[39m\u001b[38;5;124m\"\u001b[39m\u001b[38;5;124mIPython won\u001b[39m\u001b[38;5;124m'\u001b[39m\u001b[38;5;124mt let you open fd=\u001b[39m\u001b[38;5;132;01m{\u001b[39;00mfile\u001b[38;5;132;01m}\u001b[39;00m\u001b[38;5;124m by default \u001b[39m\u001b[38;5;124m\"\u001b[39m\n\u001b[1;32m    320\u001b[0m         \u001b[38;5;124m\"\u001b[39m\u001b[38;5;124mas it is likely to crash IPython. If you know what you are doing, \u001b[39m\u001b[38;5;124m\"\u001b[39m\n\u001b[1;32m    321\u001b[0m         \u001b[38;5;124m\"\u001b[39m\u001b[38;5;124myou can use builtins\u001b[39m\u001b[38;5;124m'\u001b[39m\u001b[38;5;124m open.\u001b[39m\u001b[38;5;124m\"\u001b[39m\n\u001b[1;32m    322\u001b[0m     )\n\u001b[0;32m--> 324\u001b[0m \u001b[38;5;28;01mreturn\u001b[39;00m \u001b[43mio_open\u001b[49m\u001b[43m(\u001b[49m\u001b[43mfile\u001b[49m\u001b[43m,\u001b[49m\u001b[43m \u001b[49m\u001b[38;5;241;43m*\u001b[39;49m\u001b[43margs\u001b[49m\u001b[43m,\u001b[49m\u001b[43m \u001b[49m\u001b[38;5;241;43m*\u001b[39;49m\u001b[38;5;241;43m*\u001b[39;49m\u001b[43mkwargs\u001b[49m\u001b[43m)\u001b[49m\n",
      "\u001b[0;31mFileNotFoundError\u001b[0m: [Errno 2] No such file or directory: 'run_pocketvec/PocketVec_fp.pkl'"
     ]
    }
   ],
   "source": [
    "# Running my PocketVec Pipeline\n",
    "\n",
    "import pickle\n",
    "\n",
    "# Load the PocketVec descriptor (after pipeline has run and created this file)\n",
    "with open(\"run_pocketvec/PocketVec_fp.pkl\", \"rb\") as f:\n",
    "    fingerprint = pickle.load(f)\n",
    "\n",
    "print(\"✅ PocketVec descriptor loaded:\")\n",
    "print(fingerprint[:10])  # View first 10 values\n"
   ]
  },
  {
   "cell_type": "code",
   "execution_count": null,
   "id": "1bf73eea",
   "metadata": {},
   "outputs": [],
   "source": [
    "################################################################"
   ]
  },
  {
   "cell_type": "code",
   "execution_count": null,
   "id": "51f05329",
   "metadata": {},
   "outputs": [],
   "source": [
    "# Step 1: Go to your project or home directory\n",
    "cd ~/VIDO-Internship-PocketVec-Drug-Design\n",
    "\n",
    "# Step 2: Clone the fpocket GitHub repository\n",
    "git clone https://github.com/Discngine/fpocket.git\n",
    "\n",
    "# Step 3: Build fpocket\n",
    "cd fpocket\n",
    "make\n",
    "\n",
    "# Step 4: Add fpocket binary to PATH (optional but recommended)\n",
    "echo 'export PATH=\"$PWD/bin:$PATH\"' >> ~/.bashrc\n",
    "source ~/.bashrc\n",
    "\n",
    "# Confirming installation\n",
    "fpocket -h\n",
    "\n"
   ]
  },
  {
   "cell_type": "code",
   "execution_count": 2,
   "id": "c8be7f84",
   "metadata": {},
   "outputs": [],
   "source": [
    "# Cavity detection - using fpocket\n",
    "import subprocess\n",
    "import os\n",
    "\n",
    "def run_fpocket(pdb_file, output_dir=None):\n",
    "    \"\"\"\n",
    "    Run fpocket on a given PDB file and store results.\n",
    "    \n",
    "    Args:\n",
    "        pdb_file (str): Path to PDB file.\n",
    "        output_dir (str): Directory to move results (optional).\n",
    "    \n",
    "    Returns:\n",
    "        str: Path to fpocket output directory.\n",
    "    \"\"\"\n",
    "    if not os.path.exists(pdb_file):\n",
    "        raise FileNotFoundError(f\"PDB file not found: {pdb_file}\")\n",
    "    \n",
    "    print(f\"🔍 Running fpocket on {pdb_file}...\")\n",
    "    subprocess.run([\"fpocket\", \"-f\", pdb_file], check=True)\n",
    "\n",
    "    # Result is stored in <PDB_basename>_out/\n",
    "    base_name = os.path.splitext(os.path.basename(pdb_file))[0]\n",
    "    fpocket_dir = f\"{base_name}_out\"\n",
    "\n",
    "    if output_dir:\n",
    "        new_path = os.path.join(output_dir, fpocket_dir)\n",
    "        os.rename(fpocket_dir, new_path)\n",
    "        return new_path\n",
    "    else:\n",
    "        return fpocket_dir\n"
   ]
  },
  {
   "cell_type": "code",
   "execution_count": null,
   "id": "708c98fe",
   "metadata": {},
   "outputs": [],
   "source": [
    "# Installation - bash command\n",
    "sudo apt update && sudo apt install openbabel\n"
   ]
  },
  {
   "cell_type": "code",
   "execution_count": null,
   "id": "27bdd15e",
   "metadata": {},
   "outputs": [],
   "source": [
    "# Generating 1A42_prepared.mol2 from scratch: shell command\n",
    "wget https://files.rcsb.org/download/1A42.pdb\n",
    "obabel 1A42.pdb -O 1A42_prepared.mol2\n",
    "mkdir -p run_pocketvec\n",
    "mv 1A42_prepared.mol2 run_pocketvec/\n"
   ]
  },
  {
   "cell_type": "code",
   "execution_count": null,
   "id": "c3dc3975",
   "metadata": {},
   "outputs": [],
   "source": [
    "# ✅ Step: Move the MOL2 file to your working directory\n",
    "\n",
    "mkdir -p run_pocketvec\n",
    "mv 1A42_prepared.mol2 run_pocketvec/\n"
   ]
  },
  {
   "cell_type": "code",
   "execution_count": null,
   "id": "f5fc7f1f",
   "metadata": {},
   "outputs": [],
   "source": [
    "# run\n",
    "obabel 1A42.pdb -O 1A42_prepared.mol2\n",
    "\n",
    "# Move\n",
    "mkdir -p run_pocketvec\n",
    "mv 1A42_prepared.mol2 run_pocketvec/\n",
    "\n",
    "# Verify\n",
    "ls -lh run_pocketvec/1A42_prepared.mol2\n",
    "\n",
    "\n"
   ]
  },
  {
   "cell_type": "code",
   "execution_count": 8,
   "id": "4c7cb42e",
   "metadata": {},
   "outputs": [
    {
     "name": "stdout",
     "output_type": "stream",
     "text": [
      "\n",
      "==============================\n",
      "*** Open Babel Error  in OpenAndSetFormat\n",
      "  Cannot open run_pocketvec/1A42_prepared.mol2\n",
      "0 molecules converted\n",
      "\n"
     ]
    }
   ],
   "source": [
    "# Converting MOL2 to PDB using Open Babel\n",
    "import subprocess\n",
    "import os\n",
    "\n",
    "# Create output directory if it doesn't exist\n",
    "os.makedirs(\"run_pocketvec\", exist_ok=True)\n",
    "\n",
    "# Convert MOL2 to PDB\n",
    "result = subprocess.run(\n",
    "    [\"obabel\", \"run_pocketvec/1A42_prepared.mol2\", \"-O\", \"run_pocketvec/1A42_prepared.pdb\"],\n",
    "    capture_output=True, text=True\n",
    ")\n",
    "\n",
    "print(result.stdout)\n",
    "print(result.stderr)\n"
   ]
  },
  {
   "cell_type": "code",
   "execution_count": 7,
   "id": "a34175b2",
   "metadata": {},
   "outputs": [
    {
     "ename": "FileNotFoundError",
     "evalue": "PDB file not found: run_pocketvec/1A42_prepared.pdb",
     "output_type": "error",
     "traceback": [
      "\u001b[31m---------------------------------------------------------------------------\u001b[39m",
      "\u001b[31mFileNotFoundError\u001b[39m                         Traceback (most recent call last)",
      "\u001b[36mCell\u001b[39m\u001b[36m \u001b[39m\u001b[32mIn[7]\u001b[39m\u001b[32m, line 4\u001b[39m\n\u001b[32m      1\u001b[39m \u001b[38;5;66;03m# Example\u001b[39;00m\n\u001b[32m      2\u001b[39m \u001b[38;5;66;03m# Sample test with your receptor file\u001b[39;00m\n\u001b[32m      3\u001b[39m pdb_path = \u001b[33m\"\u001b[39m\u001b[33mrun_pocketvec/1A42_prepared.pdb\u001b[39m\u001b[33m\"\u001b[39m  \u001b[38;5;66;03m# convert MOL2 to PDB beforehand\u001b[39;00m\n\u001b[32m----> \u001b[39m\u001b[32m4\u001b[39m fpocket_output = \u001b[43mrun_fpocket\u001b[49m\u001b[43m(\u001b[49m\u001b[43mpdb_path\u001b[49m\u001b[43m)\u001b[49m\n\u001b[32m      6\u001b[39m \u001b[38;5;28mprint\u001b[39m(\u001b[33mf\u001b[39m\u001b[33m\"\u001b[39m\u001b[33m📁 fpocket results saved in: \u001b[39m\u001b[38;5;132;01m{\u001b[39;00mfpocket_output\u001b[38;5;132;01m}\u001b[39;00m\u001b[33m\"\u001b[39m)\n",
      "\u001b[36mCell\u001b[39m\u001b[36m \u001b[39m\u001b[32mIn[2]\u001b[39m\u001b[32m, line 17\u001b[39m, in \u001b[36mrun_fpocket\u001b[39m\u001b[34m(pdb_file, output_dir)\u001b[39m\n\u001b[32m      6\u001b[39m \u001b[38;5;250m\u001b[39m\u001b[33;03m\"\"\"\u001b[39;00m\n\u001b[32m      7\u001b[39m \u001b[33;03mRun fpocket on a given PDB file and store results.\u001b[39;00m\n\u001b[32m      8\u001b[39m \n\u001b[32m   (...)\u001b[39m\u001b[32m     14\u001b[39m \u001b[33;03m    str: Path to fpocket output directory.\u001b[39;00m\n\u001b[32m     15\u001b[39m \u001b[33;03m\"\"\"\u001b[39;00m\n\u001b[32m     16\u001b[39m \u001b[38;5;28;01mif\u001b[39;00m \u001b[38;5;129;01mnot\u001b[39;00m os.path.exists(pdb_file):\n\u001b[32m---> \u001b[39m\u001b[32m17\u001b[39m     \u001b[38;5;28;01mraise\u001b[39;00m \u001b[38;5;167;01mFileNotFoundError\u001b[39;00m(\u001b[33mf\u001b[39m\u001b[33m\"\u001b[39m\u001b[33mPDB file not found: \u001b[39m\u001b[38;5;132;01m{\u001b[39;00mpdb_file\u001b[38;5;132;01m}\u001b[39;00m\u001b[33m\"\u001b[39m)\n\u001b[32m     19\u001b[39m \u001b[38;5;28mprint\u001b[39m(\u001b[33mf\u001b[39m\u001b[33m\"\u001b[39m\u001b[33m🔍 Running fpocket on \u001b[39m\u001b[38;5;132;01m{\u001b[39;00mpdb_file\u001b[38;5;132;01m}\u001b[39;00m\u001b[33m...\u001b[39m\u001b[33m\"\u001b[39m)\n\u001b[32m     20\u001b[39m subprocess.run([\u001b[33m\"\u001b[39m\u001b[33mfpocket\u001b[39m\u001b[33m\"\u001b[39m, \u001b[33m\"\u001b[39m\u001b[33m-f\u001b[39m\u001b[33m\"\u001b[39m, pdb_file], check=\u001b[38;5;28;01mTrue\u001b[39;00m)\n",
      "\u001b[31mFileNotFoundError\u001b[39m: PDB file not found: run_pocketvec/1A42_prepared.pdb"
     ]
    }
   ],
   "source": [
    "# Example\n",
    "# Sample test with your receptor file\n",
    "pdb_path = \"run_pocketvec/1A42_prepared.pdb\"  # convert MOL2 to PDB beforehand\n",
    "fpocket_output = run_fpocket(pdb_path)\n",
    "\n",
    "print(f\"📁 fpocket results saved in: {fpocket_output}\")\n"
   ]
  },
  {
   "cell_type": "code",
   "execution_count": null,
   "id": "399aa074",
   "metadata": {},
   "outputs": [],
   "source": [
    "################################################"
   ]
  },
  {
   "cell_type": "code",
   "execution_count": null,
   "metadata": {},
   "outputs": [],
   "source": [
    "# bash # Installing required tools\n",
    "sudo apt install fpocket\n",
    "pip install py3Dmol\n",
    "\n"
   ]
  },
  {
   "cell_type": "code",
   "execution_count": null,
   "metadata": {},
   "outputs": [],
   "source": [
    "# \n",
    "protein_pdb = 'data/1a1e_protein.pdb'\n",
    "ligand_mol2 = 'data/1a1e_ligand.mol2'\n",
    "output_dir = 'results/1a1e_enhanced/'\n",
    "\n",
    "# ⏳ Create results directory\n",
    "os.makedirs(output_dir, exist_ok=True)"
   ]
  },
  {
   "cell_type": "code",
   "execution_count": null,
   "metadata": {},
   "outputs": [],
   "source": [
    "# To run cavity detection on your own .pdb file:\n",
    "run_fpocket(\"1a1e.pdb\")\n"
   ]
  },
  {
   "cell_type": "code",
   "execution_count": null,
   "metadata": {},
   "outputs": [],
   "source": [
    "# To visualize any protein structure from the PDB database\n",
    "show_pockets(\"1a1e\")  # Replace with your actual PDB ID\n",
    "\n"
   ]
  },
  {
   "cell_type": "code",
   "execution_count": null,
   "metadata": {},
   "outputs": [],
   "source": [
    "# 📈 Visualize some descriptors\n",
    "import pandas as pd\n",
    "df = pd.read_csv(desc_file)\n",
    "\n",
    "plt.figure(figsize=(8,4))\n",
    "plt.hist(df['hydrophobicity'], bins=20, edgecolor='black')\n",
    "plt.title('Hydrophobicity Distribution')\n",
    "plt.xlabel('Hydrophobicity')\n",
    "plt.ylabel('Count')\n",
    "plt.grid(True)\n",
    "plt.show()"
   ]
  },
  {
   "cell_type": "markdown",
   "metadata": {},
   "source": [
    "---\n",
    "✅ **Done!**\n",
    "\n",
    "This notebook runs enhanced PocketVec pipeline + docking + descriptor generation + visualization.\n",
    "\n",
    "**Author:** Mohammad | Internship VIDO 2025"
   ]
  }
 ],
 "metadata": {
  "kernelspec": {
   "display_name": "pocketvec_env",
   "language": "python",
   "name": "python3"
  },
  "language_info": {
   "codemirror_mode": {
    "name": "ipython",
    "version": 3
   },
   "file_extension": ".py",
   "mimetype": "text/x-python",
   "name": "python",
   "nbconvert_exporter": "python",
   "pygments_lexer": "ipython3",
<<<<<<< HEAD
   "version": "3.12.1"
=======
   "version": "3.10.18"
>>>>>>> 1930ed259d45353061915bcb0e1ea7f6e8d9b56a
  }
 },
 "nbformat": 4,
 "nbformat_minor": 5
}
